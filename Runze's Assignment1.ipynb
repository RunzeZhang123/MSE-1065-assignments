{
 "cells": [
  {
   "cell_type": "markdown",
   "metadata": {},
   "source": [
    "## Now let's practice what we have learnt by trying out the following excercise!\n",
    "Remeber, Google and Stackoverflow are your friends!\n",
    "\n",
    "(Later you will be asked to upload the finised excercise to github, where it will then be graded). "
   ]
  },
  {
   "cell_type": "code",
   "execution_count": 1,
   "metadata": {},
   "outputs": [],
   "source": [
    "# Import the required package\n",
    "import pandas as pd\n",
    "import csv\n",
    "import os\n",
    "import numpy as np\n",
    "import re\n",
    "\n",
    "from mendeleev import element\n",
    "from mendeleev.fetch import fetch_table\n"
   ]
  },
  {
   "cell_type": "markdown",
   "metadata": {},
   "source": [
    "### <span style=\"color: red\"> Task 1:</span> The text file you downloaded earlier ('E1_T1.csv') contains ten words. Read the words into a list and use a \"for loop\" to print out each word. Also print the words as a full sentence (i.e., a single string), as well as the data type of the sentence."
   ]
  },
  {
   "cell_type": "markdown",
   "metadata": {},
   "source": [
    "### <span style=\"color: blue\"> Solution:</span>"
   ]
  },
  {
   "cell_type": "code",
   "execution_count": 2,
   "metadata": {},
   "outputs": [
    {
     "name": "stdout",
     "output_type": "stream",
     "text": [
      "['This', 'task', 'is', 'too', 'simple', ',', 'I', 'want', 'more', 'challenges']\n"
     ]
    }
   ],
   "source": [
    "### Task 1.1: read the words into a list and use a \"for loop\" to print out each word\n",
    "\n",
    "# import the data and store them into a list\n",
    "items = []\n",
    "\n",
    "with open('E1_T1.csv', 'r') as file:\n",
    "    my_reader = csv.reader(file, delimiter=',')\n",
    "    for row in my_reader:\n",
    "        print(row)"
   ]
  },
  {
   "cell_type": "code",
   "execution_count": 3,
   "metadata": {
    "scrolled": true
   },
   "outputs": [
    {
     "name": "stdout",
     "output_type": "stream",
     "text": [
      "This\n",
      "task\n",
      "is\n",
      "too\n",
      "simple\n",
      ",\n",
      "I\n",
      "want\n",
      "more\n",
      "challenges\n"
     ]
    }
   ],
   "source": [
    "# use a for loop to print out each word\n",
    "for i in range(len(row)):\n",
    "    print(row[i])"
   ]
  },
  {
   "cell_type": "code",
   "execution_count": 4,
   "metadata": {},
   "outputs": [
    {
     "name": "stdout",
     "output_type": "stream",
     "text": [
      "This task is too simple , I want more challenges\n",
      "The data type is: <class 'str'>\n"
     ]
    }
   ],
   "source": [
    "### Task 1.2: print the words as a full sentence (i.e., a single string), as well as the data type of the sentence.\n",
    "\n",
    "combined_sentence = row[0]\n",
    "for i in range(1,len(row)):\n",
    "    combined_sentence += \" \"\n",
    "    combined_sentence += row[i]\n",
    "print(combined_sentence)\n",
    "print('The data type is: '+f'{type(combined_sentence)}')"
   ]
  },
  {
   "cell_type": "markdown",
   "metadata": {},
   "source": [
    "### <span style=\"color: red\"> Task 2:</span> Now that you asked - Let's try another one. Create a dictionary with the keys \"List\", \"Tuple\", \"String\". For each key, assign a list, a tuple, and a string as their values, respectively. You can choose what you want to include in the values but each of them must contain more than five elements (for the string, it's more that five charactors). Finally, extract the third of your list, the second last of your tuple, and the whole string from your dictionary and save them into a .csv file.\n"
   ]
  },
  {
   "cell_type": "markdown",
   "metadata": {},
   "source": [
    "### <span style=\"color: blue\"> Solution:</span>"
   ]
  },
  {
   "cell_type": "code",
   "execution_count": 5,
   "metadata": {},
   "outputs": [
    {
     "name": "stdout",
     "output_type": "stream",
     "text": [
      "{'List': [1, 2, 3, 4, 5, 6], 'Tuple': (10, 20, 30, 40, 50, 60), 'String': 'Hope you are happy when seeing this :)'}\n"
     ]
    }
   ],
   "source": [
    "### Task 2.1: Create a dictionary with the keys \"List\", \"Tuple\", \"String\".\n",
    "\n",
    "# create some variables to store the values\n",
    "list_value = [1,2,3,4,5,6]\n",
    "tuple_value = (10,20,30,40,50,60)\n",
    "string_value = 'Hope you are happy when seeing this :)'\n",
    "\n",
    "# create the dictionary\n",
    "dict_1 = {'List':list_value, 'Tuple':tuple_value, 'String':string_value}\n",
    "print(dict_1)"
   ]
  },
  {
   "cell_type": "code",
   "execution_count": 6,
   "metadata": {},
   "outputs": [
    {
     "name": "stdout",
     "output_type": "stream",
     "text": [
      "['3', '50', 'Hope you are happy when seeing this :)']\n"
     ]
    }
   ],
   "source": [
    "### Task 2.2: Extract the third of your list, the second last of your tuple, and the whole string from your dictionary and save them into a .csv file.\n",
    "\n",
    "# extract the parameters\n",
    "element_1 = dict_1['List'][2]\n",
    "element_2 = dict_1['Tuple'][-2]\n",
    "element_3 = dict_1['String']\n",
    "\n",
    "# Store them into a .csv file\n",
    "with open('Runze.csv', 'w', newline='') as f:\n",
    "    writer = csv.writer(f)\n",
    "    writer.writerow([element_1,element_2,element_3])\n",
    "\n",
    "# Prove it has already been stored\n",
    "with open('Runze.csv', 'r') as file:\n",
    "    verification = csv.reader(file, delimiter=',')\n",
    "    for content in verification:\n",
    "        print(content)"
   ]
  },
  {
   "cell_type": "markdown",
   "metadata": {},
   "source": [
    "### <span style=\"color: red\"> Task 3:</span> Create a function that finds the largest number in a list. Don not use built-in function. Show you function by using a random number generator to create the inputs."
   ]
  },
  {
   "cell_type": "markdown",
   "metadata": {},
   "source": [
    "### <span style=\"color: blue\"> Solution:</span>"
   ]
  },
  {
   "cell_type": "code",
   "execution_count": 7,
   "metadata": {},
   "outputs": [],
   "source": [
    "### Task 3.1: create the function\n",
    "\n",
    "def find_the_maximum(input_list):\n",
    "    locator = 0\n",
    "    for i in range(len(input_list)):\n",
    "        temp_max = input_list[locator] # set a variable to store temporary local maximum variable\n",
    "        if input_list[i] > temp_max: # compare each element with its latter one\n",
    "            locator = i # if the latter one is larger, move the locator there\n",
    "    maximum = input_list[locator]\n",
    "    print(f\"The maximum number of the list is {maximum}\")\n",
    "    return maximum"
   ]
  },
  {
   "cell_type": "code",
   "execution_count": 8,
   "metadata": {},
   "outputs": [
    {
     "data": {
      "text/plain": [
       "[9, 15, 64, 28, 89]"
      ]
     },
     "execution_count": 8,
     "metadata": {},
     "output_type": "execute_result"
    }
   ],
   "source": [
    "### Task 3.2: Randomly generate the inputs\n",
    "\n",
    "np.random.seed(10) # fix the random seed for repeatibility \n",
    "test_list = np.random.randint(100,size=5).tolist()\n",
    "test_list"
   ]
  },
  {
   "cell_type": "code",
   "execution_count": 9,
   "metadata": {},
   "outputs": [
    {
     "name": "stdout",
     "output_type": "stream",
     "text": [
      "The maximum number of the list is 89\n"
     ]
    },
    {
     "data": {
      "text/plain": [
       "89"
      ]
     },
     "execution_count": 9,
     "metadata": {},
     "output_type": "execute_result"
    }
   ],
   "source": [
    "### Task 3.3: Show the function\n",
    "find_the_maximum(test_list)\n"
   ]
  },
  {
   "cell_type": "markdown",
   "metadata": {},
   "source": [
    "### <span style=\"color: red\"> Task 4:</span> Create a class named \"Alloys\". Initilize it with name and number of elements. In class \"Alloys\", write a method named \"info\", which prints \"\\<name> has \\<num_of_elements> elements\". For example, for Ti6Al4V, it will print \"Ti6Al4V has 3 elements\". Then create an inheritance calss of \"Alloys\" called \"HEAs\" (that's High Entropy Alloys). Create an instance from HEAs and print it's info. You can use CoCrFeMnNi, which has 5 elements."
   ]
  },
  {
   "cell_type": "markdown",
   "metadata": {},
   "source": [
    "### <span style=\"color: blue\"> Solution:</span>"
   ]
  },
  {
   "cell_type": "code",
   "execution_count": 23,
   "metadata": {},
   "outputs": [],
   "source": [
    "### Task 4.1: create a class named \"Alloys\"\n",
    "\n",
    "# define the class alloys\n",
    "class Alloys():\n",
    "    \n",
    "    def __init__(self, name, number_of_elements):\n",
    "        self.name = name\n",
    "        self.number_of_elements = number_of_elements\n",
    "    \n",
    "    def info(self): \n",
    "        print(f'{self.name} has {self.number_of_elements} elements')"
   ]
  },
  {
   "cell_type": "code",
   "execution_count": 24,
   "metadata": {},
   "outputs": [
    {
     "name": "stdout",
     "output_type": "stream",
     "text": [
      "Ti6Al4V has 3 elements\n"
     ]
    }
   ],
   "source": [
    "# test the class\n",
    "test_alloy = Alloys(name = 'Ti6Al4V', number_of_elements = 3)\n",
    "test_alloy.info()"
   ]
  },
  {
   "cell_type": "code",
   "execution_count": 25,
   "metadata": {},
   "outputs": [],
   "source": [
    "### Task 4.2: Creat the inheritace class\n",
    "\n",
    "class HEAs(Alloys):\n",
    "    \n",
    "    def __init__(self, name, number_of_elements):\n",
    "        super().__init__(name, number_of_elements)"
   ]
  },
  {
   "cell_type": "code",
   "execution_count": 26,
   "metadata": {},
   "outputs": [
    {
     "name": "stdout",
     "output_type": "stream",
     "text": [
      "CoCrFeMnNi has 5 elements\n"
     ]
    }
   ],
   "source": [
    "# test the inheritance class\n",
    "test_HEA = HEAs(name = 'CoCrFeMnNi', number_of_elements = 5)\n",
    "test_HEA.info()"
   ]
  },
  {
   "cell_type": "markdown",
   "metadata": {},
   "source": [
    "### <span style=\"color: red\"> Task 5:</span> Write a function to check if an alloy’s composition is normalized. If it is not, your function should normalize it and return the normalized alloy name. E.g., if the input is $A_{1}B_{2}$, your function should output A0.33B0.67. To simplify the problem, if an element's composition is 1, include that in your input. E.g., if the alloy is $Ti_{6}Al_{4}V$,  you should use Ti6Al4V1 as the input\n",
    "Bonus question: your function can run a check on the input name to check if there is any “not elements” in the name. Hint: you can try the Mendeleev python library for a complete list of elements."
   ]
  },
  {
   "cell_type": "markdown",
   "metadata": {},
   "source": [
    "### <span style=\"color: blue\"> Solution:</span>"
   ]
  },
  {
   "cell_type": "code",
   "execution_count": 27,
   "metadata": {},
   "outputs": [],
   "source": [
    "### Task 5: deinfe the function to check composition's normalization\n",
    "\n",
    "def check_normalization(input_element):\n",
    "    \n",
    "    # define the patterns for regular expression\n",
    "    number_pattern = re.compile(r'[0-9]\\.?\\/?[0-9]?')\n",
    "    element_pattern = re.compile(r'[A-Z][a-z]?')\n",
    "    \n",
    "    # find the elements and numbers included in the input\n",
    "    elements = element_pattern.findall(input_element)\n",
    "    numbers = number_pattern.findall(input_element)\n",
    "    \n",
    "    # Bonus part: check if there's any non-element included\n",
    "    ptable = fetch_table('elements')\n",
    "    \n",
    "    verify_list = []\n",
    "    for i in range(len(elements)):\n",
    "        test_element = elements[i]\n",
    "        if test_element in ptable['symbol'].values: # determine if every element in the string is included in ptable\n",
    "            verify_list.append(True)\n",
    "        else:\n",
    "            verify_list.append(False)\n",
    "        \n",
    "    if all(verify_list) == True:\n",
    "        \n",
    "        # check if the normalization has already been satisfied\n",
    "        for i in range(len(numbers)):\n",
    "            numbers[i] = float(numbers[i])\n",
    "        numbers = np.array(numbers)\n",
    "\n",
    "        if sum(numbers) == 1:\n",
    "            print(\"The input compound has already been normalized\")\n",
    "            new_compound_name = input_element\n",
    "\n",
    "        else:\n",
    "            normalized_numbers = numbers/sum(numbers)\n",
    "\n",
    "        # concentrate the lists\n",
    "            new_compound = []\n",
    "            for i in range(len(elements)):\n",
    "                new_compound.append(elements[i])\n",
    "                new_compound.append(str(\"%.2f\"%normalized_numbers[i])) # round the numbers with 2 digits\n",
    "            new_compound_name = ''.join(new_compound)\n",
    "\n",
    "        return new_compound_name\n",
    "    \n",
    "    else:\n",
    "        raise Exception(\"Element composition error: The input compound composition is not valid, please check the element names\")"
   ]
  },
  {
   "cell_type": "code",
   "execution_count": 28,
   "metadata": {},
   "outputs": [
    {
     "name": "stdout",
     "output_type": "stream",
     "text": [
      "The input compound has already been normalized\n",
      "Ti0.6Al0.4\n"
     ]
    }
   ],
   "source": [
    "### verication of the function\n",
    "\n",
    "# For normalized composition\n",
    "test_case = 'Ti0.6Al0.4'\n",
    "composition = check_normalization(test_case)\n",
    "print(composition)"
   ]
  },
  {
   "cell_type": "code",
   "execution_count": 29,
   "metadata": {},
   "outputs": [
    {
     "name": "stdout",
     "output_type": "stream",
     "text": [
      "Ti0.55Al0.36V0.09\n"
     ]
    }
   ],
   "source": [
    "# For non-normalized composition\n",
    "test_case = 'Ti6Al4V1'\n",
    "new_composition = check_normalization(test_case)\n",
    "print(new_composition)"
   ]
  },
  {
   "cell_type": "markdown",
   "metadata": {},
   "source": [
    "#### Bonus question\n"
   ]
  },
  {
   "cell_type": "code",
   "execution_count": 30,
   "metadata": {},
   "outputs": [
    {
     "ename": "Exception",
     "evalue": "Element composition error: The input compound composition is not valid, please check the element names",
     "output_type": "error",
     "traceback": [
      "\u001b[1;31m---------------------------------------------------------------------------\u001b[0m",
      "\u001b[1;31mException\u001b[0m                                 Traceback (most recent call last)",
      "\u001b[1;32m<ipython-input-30-0482b092659b>\u001b[0m in \u001b[0;36m<module>\u001b[1;34m\u001b[0m\n\u001b[0;32m      1\u001b[0m \u001b[1;31m# For incorrect compositions (with non-elements)\u001b[0m\u001b[1;33m\u001b[0m\u001b[1;33m\u001b[0m\u001b[1;33m\u001b[0m\u001b[0m\n\u001b[0;32m      2\u001b[0m \u001b[0mtest_case\u001b[0m \u001b[1;33m=\u001b[0m \u001b[1;34m'TT6Ae4V1'\u001b[0m\u001b[1;33m\u001b[0m\u001b[1;33m\u001b[0m\u001b[0m\n\u001b[1;32m----> 3\u001b[1;33m \u001b[0mnew_composition\u001b[0m \u001b[1;33m=\u001b[0m \u001b[0mcheck_normalization\u001b[0m\u001b[1;33m(\u001b[0m\u001b[0mtest_case\u001b[0m\u001b[1;33m)\u001b[0m\u001b[1;33m\u001b[0m\u001b[1;33m\u001b[0m\u001b[0m\n\u001b[0m",
      "\u001b[1;32m<ipython-input-27-22b80c0fb65d>\u001b[0m in \u001b[0;36mcheck_normalization\u001b[1;34m(input_element)\u001b[0m\n\u001b[0;32m     46\u001b[0m \u001b[1;33m\u001b[0m\u001b[0m\n\u001b[0;32m     47\u001b[0m     \u001b[1;32melse\u001b[0m\u001b[1;33m:\u001b[0m\u001b[1;33m\u001b[0m\u001b[1;33m\u001b[0m\u001b[0m\n\u001b[1;32m---> 48\u001b[1;33m         \u001b[1;32mraise\u001b[0m \u001b[0mException\u001b[0m\u001b[1;33m(\u001b[0m\u001b[1;34m\"Element composition error: The input compound composition is not valid, please check the element names\"\u001b[0m\u001b[1;33m)\u001b[0m\u001b[1;33m\u001b[0m\u001b[1;33m\u001b[0m\u001b[0m\n\u001b[0m",
      "\u001b[1;31mException\u001b[0m: Element composition error: The input compound composition is not valid, please check the element names"
     ]
    }
   ],
   "source": [
    "# For incorrect compositions (with non-elements)\n",
    "test_case = 'TT6Ae4V1'\n",
    "new_composition = check_normalization(test_case)\n"
   ]
  },
  {
   "cell_type": "markdown",
   "metadata": {},
   "source": [
    "## Thank you for your time, have a good day :)"
   ]
  }
 ],
 "metadata": {
  "kernelspec": {
   "display_name": "Python 3",
   "language": "python",
   "name": "python3"
  },
  "language_info": {
   "codemirror_mode": {
    "name": "ipython",
    "version": 3
   },
   "file_extension": ".py",
   "mimetype": "text/x-python",
   "name": "python",
   "nbconvert_exporter": "python",
   "pygments_lexer": "ipython3",
   "version": "3.8.5"
  }
 },
 "nbformat": 4,
 "nbformat_minor": 5
}
